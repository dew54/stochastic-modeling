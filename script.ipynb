{
 "cells": [
  {
   "cell_type": "markdown",
   "metadata": {},
   "source": []
  },
  {
   "cell_type": "markdown",
   "metadata": {},
   "source": [
    "This code implements a simulation software for the S-ICEP problem.\n"
   ]
  },
  {
   "cell_type": "code",
   "execution_count": 1,
   "metadata": {},
   "outputs": [],
   "source": [
    "import numpy as np\n",
    "import random as rm\n",
    "import math\n",
    "import pandas as pd\n",
    "from scipy.stats import uniform\n",
    "from matplotlib import pyplot as plt\n",
    "from statsmodels.distributions.empirical_distribution import ECDF\n",
    "from getStats import getStats\n",
    "from earthQuake import EarthQuake\n",
    "from flood import Flood\n",
    "from population import Population\n",
    "from weather import Weather\n",
    "from scenario import Scenario\n",
    "from utils import Utils\n",
    "import random"
   ]
  },
  {
   "cell_type": "markdown",
   "metadata": {},
   "source": [
    "We as first set initial parameters"
   ]
  },
  {
   "cell_type": "code",
   "execution_count": 5,
   "metadata": {},
   "outputs": [
    {
     "name": "stdout",
     "output_type": "stream",
     "text": [
      "{p01: 5.89888273533717e-6, p11: 0.994556307602081}\n"
     ]
    }
   ],
   "source": [
    "numScenarios = 25\n",
    "T = 365 *1              # Select number of years\n",
    "basePop = 1000\n",
    "period = 100\n",
    "T = 360*100\n",
    "#weather = Weather(T)\n",
    "weather = Weather(T)\n",
    "simulation = []\n",
    "dailyRain, t_min, t_max, radiaz = weather.weatherGame()\n",
    "dailyStats = []\n",
    "oneDayRain = []\n",
    "oneDayt_min = []\n",
    "oneDayt_max = []\n",
    "oneDayradiaz = []\n",
    "stats = []\n",
    "for d in range(360):\n",
    "    for t in range(period):        \n",
    "        oneDayRain.append(dailyRain[d + 360*t])\n",
    "        oneDayt_min.append(t_min[d + 360*t])\n",
    "        oneDayt_max.append(t_max[d + 360*t])\n",
    "        oneDayradiaz.append(radiaz[d + 360*t])\n",
    "    rainDesc = np.mean(oneDayRain), np.var(oneDayRain)\n",
    "    t_minDesc = np.mean(oneDayt_min), np.var(oneDayt_min)\n",
    "    t_maxDesc = np.mean(oneDayt_max), np.var(oneDayt_max)\n",
    "    radiationDesc =  np.mean(oneDayradiaz), np.var(oneDayradiaz)\n",
    "    dailyStats.append((rainDesc, t_minDesc, t_maxDesc, radiationDesc))\n"
   ]
  },
  {
   "cell_type": "markdown",
   "metadata": {},
   "source": [
    "Let'run our simulation;\n",
    "The first stage of the process consists of symulating wet/dry days by means of a 2-states markov process: dry days or wet days.\n",
    "Each trasnsition is associated to a transition probability, then we have: \n",
    "$$M = \\begin{pmatrix}\n",
    "p_{00} & p_{01} \\\\\n",
    " p_{10} & p_{11}\n",
    "\\end{pmatrix}$$\n",
    "\n",
    "$$p_{01}:  \\text{probability of wet day after dry day} \\\\\n",
    "p_{11}:  \\text{probability of wet day after wetday} \\\\\n",
    "p_{00} = 1 -  p_{01} \\\\\n",
    "p_{10} = 1 -  p_{11}\n",
    "$$\n",
    "\n",
    "\n",
    "Each \"weather game\" iterates as follows:\n",
    "![weather game](./images/weather-game.png \"Title\")\n",
    "\n",
    "\n",
    "\n"
   ]
  },
  {
   "cell_type": "markdown",
   "metadata": {},
   "source": [
    "For each day model \"decides\" wether it is rainy or not, if yes then calculates the effectively rain amount by using an exponential distribution of mean u $$f(x) = (1/\\mu ) \\mathrm{e}_{}^{-x/\\mu}$$\n",
    "if no, rain amount is zero."
   ]
  },
  {
   "cell_type": "code",
   "execution_count": null,
   "metadata": {},
   "outputs": [],
   "source": [
    "weatherData = weather.weatherGame()\n"
   ]
  },
  {
   "cell_type": "markdown",
   "metadata": {},
   "source": [
    "Next we proceed to sample non precipitational variable, that are:\n",
    "<ul>\n",
    "<li> Min temperatures </li>\n",
    "<li> Max temperatures </li>\n",
    "<li> Solar radiation </li>\n",
    "</ul>\n",
    "Note:\n",
    "Those quantities, are poorly considered for the natural disaster triggering, but are usefull to compute severity parameters during an evacuation, affecting driving and operation times, visibility etc.\n",
    "\n",
    "Quantities, (t_min, t_max, rad) are extracted from a stochastic Auto Regressive first-order process, defined by:\n",
    "$$z(t) = Az(t-1) + B \\epsilon(t) $$\n",
    "where \n",
    "$$ z(t) =  \\begin{pmatrix}\n",
    "\\mathrm{z}_{t_m}^{} \\\\\n",
    "\\mathrm{z}_{t_M}^{} \\\\\n",
    " \\mathrm{z}_{rad}^{}\\\\\n",
    "\n",
    "\\end{pmatrix}\n",
    "\n",
    "\\\\\\epsilon(t) \\sim G(0, 1)\n",
    "$$ \n",
    "and \n",
    "\n",
    "$$\n",
    "A = \\begin{pmatrix}\n",
    "0.567 & 0.086 & -0.002 \\\\\n",
    "0.253 & 0.504 & -0.05 \\\\\n",
    "-0.006 & -0.039 & 0.244\n",
    "\\end{pmatrix}\n",
    "\n",
    "B = \\begin{pmatrix}\n",
    "0.781& 0 & 0 \\\\\n",
    "0.328 & 0.637 & 0 \\\\\n",
    "0.238 & -0.341 & 0.873\n",
    "\\end{pmatrix}\n",
    "$$\n",
    "\n",
    "Note: A and B are given from [PAPER]\n",
    "\n",
    "\n",
    "Once they have been generated, the z(t) are transformed to weather\n",
    "variables in a way that depends on whether the day has been simulated to be wet or\n",
    "dry\n",
    "$$\\mathrm{T}_{k}^{}(t) = \\begin{cases} \\mathrm{\\mu}_{k,0}^{}(t) + \\mathrm{\\sigma}_{k,0}^{}(t) \\mathrm{z}_{k}^{}(t) & \\text{if is a dry day}\n",
    "\\\\ \\mathrm{\\mu}_{k,1}^{}(t) + \\mathrm{\\sigma}_{k,1}^{}(t) \\mathrm{z}_{k}^{}(t) & \\text{if is a wet day}\n",
    "\\end{cases}$$\n",
    "\n",
    "Where seasonal fluctuation are considered by imposing to means a sinusoidal time-dependent behaviour, indeed:\n",
    "$$\\mu(t) = \\overline{\\mu} + C cos (0.0172(t -T))$$\n"
   ]
  },
  {
   "cell_type": "code",
   "execution_count": null,
   "metadata": {},
   "outputs": [],
   "source": [
    "dailyRain, t_min, t_max, radiaz = weatherData\n"
   ]
  },
  {
   "cell_type": "markdown",
   "metadata": {},
   "source": [
    "Let's move on population data generation:\n",
    "Since the of population follows a cyclical behaviour during the year it is reasonable to represent it with one (or more) sinusoids, plus some uncertainty extracted from a normal distibution\n",
    "$$\n",
    "population(t) = \\overline{pop} * (1 + \\left[ Acos(0.0172t) + Bcos(0.0172t +\\Phi) \\right] + C \\epsilon(t))\n",
    "\\\\\n",
    "\\epsilon(t) \\sim G(0, 1)\n",
    "$$\n",
    "\n",
    "The resulting process is then smoothed with a moving avarage filter with a box window of 7 days in order to smooth population variations."
   ]
  },
  {
   "cell_type": "code",
   "execution_count": null,
   "metadata": {},
   "outputs": [],
   "source": [
    "population = Population(basePop, T)\n"
   ]
  },
  {
   "cell_type": "code",
   "execution_count": null,
   "metadata": {},
   "outputs": [],
   "source": [
    "Ia = 10\n",
    "S = 11\n",
    "Q = [(((p - Ia)**2)/(p - Ia + S)) for p in dailyRain[0:T]]"
   ]
  },
  {
   "cell_type": "markdown",
   "metadata": {},
   "source": [
    "Then we can plot results:"
   ]
  },
  {
   "cell_type": "code",
   "execution_count": null,
   "metadata": {},
   "outputs": [],
   "source": [
    "\n",
    "fig1, axs1 = plt.subplots(3, 2)\n",
    "\n",
    "X = range(0, T)\n",
    "\n",
    "axs1[0][0].plot(X, oneDayRain[0:T] )\n",
    "axs1[0][0].set_title('Rainy days')\n",
    "\n",
    "axs1[1][0].plot(X, oneDayt_min, oneDayt_max)\n",
    "axs1[1][0].set_title('t max/min')\n",
    "\n",
    "axs1[0][1].plot(X,  population.getPopWave() )\n",
    "axs1[0][1].set_title('pop')\n",
    "\n",
    "axs1[1][1].plot(X,  oneDayradiaz )\n",
    "axs1[1][1].set_title('radiation')\n",
    "\n",
    "axs1[2][0].plot(X,  Q )\n",
    "axs1[2][0].set_title('rainOff')\n",
    "\n",
    "plt.show()\n"
   ]
  },
  {
   "attachments": {},
   "cell_type": "markdown",
   "metadata": {},
   "source": [
    "Now, we need to collect data by letting run our model for a useful period, let's say 100 years."
   ]
  },
  {
   "cell_type": "markdown",
   "metadata": {},
   "source": [
    "Let's move on now to sampling natural disasters, we start from a random sampled day, compute the corresponding weather variables and evaluate the probabilty of the emergency:\n",
    "Two types of disaster are considered: \n",
    "<ul>\n",
    "<li> Earthqwakes: following the <a  href=\"https://en.wikipedia.org/wiki/Gutenberg%E2%80%93Richter_law\"  > Gutenberg-Richter distribution </a>\n",
    "\n",
    "\n",
    "</ul>\n",
    "\n",
    "$$\n",
    "N = \\mathrm{10}_{}^{a-bM}\n",
    "$$\n",
    "Where N is the total number of Earthquake of magnitude M or above, a and b are parameters to be chosen accordingly to geo-activity of the area of interest.\n",
    "<ul>\n",
    "\n",
    "<li> Floods: following a <a href=\"https://en.wikipedia.org/wiki/100-year_flood#:~:text=A%20100%2Dyear%20flood%20is,exceeded%20in%20any%20given%20year.\"> 100-year flood probability </a> \n",
    "</li>\n",
    "\n",
    "</ul>\n",
    "\n",
    "$$\n",
    "P = 1 - [1 - (1/T)]^{n}\n",
    "$$\n",
    "Where P is the probability of one or more floods occurring during any period will exceed a given flood threshold. T is the return period, expressed as the inverse of the average frequency of occurrence (in that case T = 10)."
   ]
  },
  {
   "cell_type": "markdown",
   "metadata": {},
   "source": [
    "At this point, we can generate natural disasters each with an associated probability.\n",
    "As first step, disaster type is extracted from a uniform distribution. 2 emergencies are possible:\n",
    "<ul>\n",
    "<li>In case of earthquake the day T is randomly extracted from uniform distribution </li>\n",
    "<li>In case of floods, first the most rainy Days are ranked, then T is randomly extracted from this subset </li> \n",
    "</ul>\n",
    "\n"
   ]
  },
  {
   "cell_type": "code",
   "execution_count": null,
   "metadata": {},
   "outputs": [],
   "source": [
    "scenarios = []\n",
    "tIstants = []\n",
    "mostRainyWeeks = weather.setMostRainyWeeks(numScenarios)\n",
    "\n",
    "for ns in range(numScenarios):\n",
    "    disasterType = random.randint(1, 2)\n",
    "    if disasterType == 1:\n",
    "        timeIstant = random.randint(0, T)\n",
    "    else:\n",
    "        index = random.sample(range(len(mostRainyWeeks)), 1)[0]\n",
    "        sample = mostRainyWeeks[index]\n",
    "        mostRainyWeeks = np.delete(mostRainyWeeks, index)\n",
    "        timeIstant = int(sample)\n",
    "    scenario = Scenario(population, weather, numScenarios, timeIstant, disasterType)    \n",
    "    s = scenario.sampleScenario()\n",
    "\n",
    "\n",
    "    scenarios.append(s)\n",
    "    tIstants.append(s.timeIstant)\n"
   ]
  },
  {
   "cell_type": "markdown",
   "metadata": {},
   "source": [
    "The final scenario's probability is given by the probability of the natural disaster, times the probability relative to population and temperatures deviation from means; which are are upper bounded with the <a href=\"https://en.wikipedia.org/wiki/Cantelli%27s_inequality\"> Cantelli's inequality</a>\n",
    "\n",
    "Once every scenario has his absolute probability assigned, finally we normalize all the probabilities in order to make them sum to 1."
   ]
  },
  {
   "cell_type": "code",
   "execution_count": null,
   "metadata": {},
   "outputs": [],
   "source": [
    "X = range(0, T)\n",
    "df = pd.DataFrame(columns=['day', 'population', 'rainAmount', 't_min', 't_max', 'radiation', 'disaster', 'Relative Probability'])\n",
    "\n",
    "df['day'] = tIstants\n",
    "\n",
    "df['population'] = [int(s.population) for s in scenarios]\n",
    "df['rainAmount'] = [int(s.rainAmount) for s in scenarios]\n",
    "df['t_min'] = [int(s.tempMin) for s in scenarios]\n",
    "df['t_max'] = [int(s.tempMax) for s in scenarios]\n",
    "df['radiation'] = [int(s.radiation) for s in scenarios]\n",
    "# df['flood'] = [s.flooding[0] for s in scenarios]\n",
    "# df['earthqwake'] =  [s.earthqwake[0] for s in scenarios]\n",
    "# df['probability'] = [s.probability for s in scenarios]\n",
    "df['Relative Probability'] = Utils.normalizeProbs([s.probability for s in scenarios])\n",
    "disasterTypes = []\n",
    "for s in scenarios:\n",
    "    dis = \"Flood\" if s.flooding[0] > 0 else \"Earthquake, Mag: \"+str(s.earthqwake[0])\n",
    "    dis = \"Flood\" + \"Earthquake, Mag: \"+str(s.earthqwake[0]) if (s.flooding[0] > 0 and s.earthqwake[0]) > 0 else dis\n",
    "    disasterTypes.append(dis)\n",
    "df['disaster'] = disasterTypes\n",
    "\n",
    "df.sort_values(by=['day'], inplace=True)\n",
    "\n",
    "df\n"
   ]
  }
 ],
 "metadata": {
  "kernelspec": {
   "display_name": "Python 3.10.8 64-bit",
   "language": "python",
   "name": "python3"
  },
  "language_info": {
   "codemirror_mode": {
    "name": "ipython",
    "version": 3
   },
   "file_extension": ".py",
   "mimetype": "text/x-python",
   "name": "python",
   "nbconvert_exporter": "python",
   "pygments_lexer": "ipython3",
   "version": "3.10.8"
  },
  "orig_nbformat": 4,
  "vscode": {
   "interpreter": {
    "hash": "369f2c481f4da34e4445cda3fffd2e751bd1c4d706f27375911949ba6bb62e1c"
   }
  }
 },
 "nbformat": 4,
 "nbformat_minor": 2
}
