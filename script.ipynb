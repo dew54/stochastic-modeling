{
 "cells": [
  {
   "cell_type": "markdown",
   "metadata": {},
   "source": []
  },
  {
   "cell_type": "markdown",
   "metadata": {},
   "source": [
    "This code implements a symulation software for the S-ICEP problem.\n"
   ]
  },
  {
   "cell_type": "code",
   "execution_count": 1,
   "metadata": {},
   "outputs": [],
   "source": [
    "import numpy as np\n",
    "import random as rm\n",
    "import math\n",
    "import pandas as pd\n",
    "from scipy.stats import uniform\n",
    "from matplotlib import pyplot as plt\n",
    "from statsmodels.distributions.empirical_distribution import ECDF\n",
    "from getStats import getStats\n",
    "from earthQuake import EarthQuake\n",
    "from flood import Flood\n",
    "from population import Population\n",
    "from weather import Weather\n",
    "from scenario import Scenario\n",
    "from utils import Utils"
   ]
  },
  {
   "cell_type": "markdown",
   "metadata": {},
   "source": [
    "Let'run our simulation;\n",
    "dailyRain, t_min, t_max, radiaz, probs"
   ]
  },
  {
   "cell_type": "code",
   "execution_count": 2,
   "metadata": {},
   "outputs": [],
   "source": [
    "numScenarios = 20\n",
    "T = 365 *10\n",
    "totPop = 1000\n",
    "weather = Weather(T)\n",
    "weatherData = weather.weatherGame()\n",
    "dailyRain, t_min, t_max, radiaz = weatherData\n",
    "population = Population(totPop, T)"
   ]
  },
  {
   "cell_type": "code",
   "execution_count": 3,
   "metadata": {},
   "outputs": [
    {
     "ename": "NameError",
     "evalue": "name 'random' is not defined",
     "output_type": "error",
     "traceback": [
      "\u001b[1;31m---------------------------------------------------------------------------\u001b[0m",
      "\u001b[1;31mNameError\u001b[0m                                 Traceback (most recent call last)",
      "Cell \u001b[1;32mIn [3], line 5\u001b[0m\n\u001b[0;32m      3\u001b[0m \u001b[39m# scenario = Scenario(population, weather, numScenarios)\u001b[39;00m\n\u001b[0;32m      4\u001b[0m \u001b[39mfor\u001b[39;00m ns \u001b[39min\u001b[39;00m \u001b[39mrange\u001b[39m(numScenarios):\n\u001b[1;32m----> 5\u001b[0m     timeIstant \u001b[39m=\u001b[39m random\u001b[39m.\u001b[39mrandint(\u001b[39m0\u001b[39m, \u001b[39m365\u001b[39m)\n\u001b[0;32m      6\u001b[0m     scenario \u001b[39m=\u001b[39m Scenario(population, weather, numScenarios, timeIstant)\n\u001b[0;32m      7\u001b[0m     s \u001b[39m=\u001b[39m scenario\u001b[39m.\u001b[39msampleScenario()\n",
      "\u001b[1;31mNameError\u001b[0m: name 'random' is not defined"
     ]
    }
   ],
   "source": [
    "scenarios = []\n",
    "tIstants = []\n",
    "# scenario = Scenario(population, weather, numScenarios)\n",
    "for ns in range(numScenarios):\n",
    "    timeIstant = rm.randint(0, 365)\n",
    "    scenario = Scenario(population, weather, numScenarios, timeIstant)\n",
    "    s = scenario.sampleScenario()\n",
    "    scenarios.append(s)\n",
    "    tIstants.append(s.timeIstant)"
   ]
  },
  {
   "cell_type": "code",
   "execution_count": null,
   "metadata": {},
   "outputs": [],
   "source": [
    "X = range(0, T)\n",
    "df = pd.DataFrame(columns=['day', 'population', 'rainAmount', 't_min', 't_max', 'radiation', 'flood', 'earthqwake', 'probability', 'normalized'])\n",
    "\n",
    "df['day'] = tIstants\n",
    "\n",
    "df['population'] = [int(s.population) for s in scenarios]\n",
    "df['rainAmount'] = [int(s.rainAmount) for s in scenarios]\n",
    "df['t_min'] = [int(s.tempMin) for s in scenarios]\n",
    "df['t_max'] = [int(s.tempMax) for s in scenarios]\n",
    "df['radiation'] = [int(s.radiation) for s in scenarios]\n",
    "df['flood'] = [s.flooding[0] for s in scenarios]\n",
    "df['earthqwake'] =  [s.earthqwake[0] for s in scenarios]\n",
    "df['probability'] = [s.probability for s in scenarios]\n",
    "df['normalized'] = Utils.normalizeProbs([s.probability for s in scenarios])\n",
    "\n",
    "df.sort_values(by=['day'], inplace=True)\n",
    "\n",
    "df\n"
   ]
  },
  {
   "cell_type": "code",
   "execution_count": null,
   "metadata": {},
   "outputs": [],
   "source": [
    "fig1, axs1 = plt.subplots(3, 2)\n",
    "\n",
    "axs1[0][0].plot(X, dailyRain[0:T] )\n",
    "axs1[0][0].set_title('Rainy days')\n",
    "\n",
    "axs1[1][0].plot(X, t_min, t_max)\n",
    "axs1[1][0].set_title('t min')\n",
    "\n",
    "axs1[0][1].plot(X,  population.getPopWave() )\n",
    "axs1[0][1].set_title('pop')\n",
    "\n",
    "axs1[1][1].plot(X,  radiaz )\n",
    "axs1[1][1].set_title('radiation')\n",
    "\n",
    "axs1[2][0].plot([x for x in range(len(tIstants))], Utils.normalizeProbs([s.probability for s in scenarios]))\n",
    "axs1[2][0]\n",
    "\n",
    "plt.show()"
   ]
  },
  {
   "cell_type": "markdown",
   "metadata": {},
   "source": []
  },
  {
   "cell_type": "markdown",
   "metadata": {},
   "source": []
  }
 ],
 "metadata": {
  "kernelspec": {
   "display_name": "Python 3.10.8 64-bit",
   "language": "python",
   "name": "python3"
  },
  "language_info": {
   "codemirror_mode": {
    "name": "ipython",
    "version": 3
   },
   "file_extension": ".py",
   "mimetype": "text/x-python",
   "name": "python",
   "nbconvert_exporter": "python",
   "pygments_lexer": "ipython3",
   "version": "3.10.8"
  },
  "orig_nbformat": 4,
  "vscode": {
   "interpreter": {
    "hash": "369f2c481f4da34e4445cda3fffd2e751bd1c4d706f27375911949ba6bb62e1c"
   }
  }
 },
 "nbformat": 4,
 "nbformat_minor": 2
}
